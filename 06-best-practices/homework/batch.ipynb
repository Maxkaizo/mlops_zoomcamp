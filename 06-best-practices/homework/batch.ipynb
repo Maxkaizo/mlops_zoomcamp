{
 "cells": [
  {
   "cell_type": "code",
   "execution_count": 1,
   "id": "ca5f7d5e",
   "metadata": {},
   "outputs": [],
   "source": [
    "import os\n",
    "import sys\n",
    "import pickle\n",
    "import pandas as pd"
   ]
  },
  {
   "cell_type": "code",
   "execution_count": 2,
   "id": "b3b7642c",
   "metadata": {},
   "outputs": [],
   "source": [
    "def read_data(filename):\n",
    "    # endpoint = os.getenv('S3_ENDPOINT_URL', None)\n",
    "    endpoint = \"http://localhost:4566\"\n",
    "\n",
    "    if endpoint is None:\n",
    "        df = pd.read_parquet(filename)\n",
    "        return df\n",
    "    else:\n",
    "        options = {\n",
    "            'client_kwargs': {\n",
    "                'endpoint_url': endpoint\n",
    "            }\n",
    "        }\n",
    "\n",
    "        df = pd.read_parquet(filename, storage_options=options)\n",
    "        return df"
   ]
  },
  {
   "cell_type": "code",
   "execution_count": 18,
   "id": "7511b70e",
   "metadata": {},
   "outputs": [],
   "source": [
    "def prepare_data(df, categorical):\n",
    "    \n",
    "    df['duration'] = df.tpep_dropoff_datetime - df.tpep_pickup_datetime\n",
    "    df['duration'] = df.duration.dt.total_seconds() / 60\n",
    "\n",
    "    df = df[(df.duration >= 1) & (df.duration <= 60)].copy()\n",
    "\n",
    "    df[categorical] = df[categorical].fillna(-1).astype('int').astype('str')\n",
    "\n",
    "    return df"
   ]
  },
  {
   "cell_type": "code",
   "execution_count": 19,
   "id": "759ec919",
   "metadata": {},
   "outputs": [],
   "source": [
    "def get_input_path(year, month):\n",
    "    default_input_pattern = 'https://d37ci6vzurychx.cloudfront.net/trip-data/yellow_tripdata_{year:04d}-{month:02d}.parquet'\n",
    "    input_pattern = \"s3://nyc-duration/in/yellow_tripdata_{year:04d}-{month:02d}.parquet\"\n",
    "    return input_pattern.format(year=year, month=month)"
   ]
  },
  {
   "cell_type": "code",
   "execution_count": 20,
   "id": "a8c0c234",
   "metadata": {},
   "outputs": [],
   "source": [
    "def get_output_path(year, month):\n",
    "    default_output_pattern = 's3://nyc-duration-prediction-alexey/taxi_type=fhv/year={year:04d}/month={month:02d}/predictions.parquet'\n",
    "    output_pattern = \"s3://nyc-duration/out/yellow_tripdata_{year:04d}-{month:02d}.parquet\"\n",
    "    return output_pattern.format(year=year, month=month)"
   ]
  },
  {
   "cell_type": "code",
   "execution_count": 21,
   "id": "9fcbfe79",
   "metadata": {},
   "outputs": [],
   "source": [
    "def main(year, month):\n",
    "\n",
    "    # input_file = f'https://d37ci6vzurychx.cloudfront.net/trip-data/yellow_tripdata_{year:04d}-{month:02d}.parquet'\n",
    "    # output_file = f'yellow_tripdata_{year:04d}-{month:02d}.parquet'\n",
    "\n",
    "    with open('model.bin', 'rb') as f_in:\n",
    "        dv, lr = pickle.load(f_in)\n",
    "\n",
    "    categorical = ['PULocationID', 'DOLocationID']\n",
    "\n",
    "    df = read_data(input_file)\n",
    "    df = prepare_data(df, categorical)\n",
    "\n",
    "    df['ride_id'] = f'{year:04d}/{month:02d}_' + df.index.astype('str')\n",
    "\n",
    "    dicts = df[categorical].to_dict(orient='records')\n",
    "    X_val = dv.transform(dicts)\n",
    "    y_pred = lr.predict(X_val)\n",
    "\n",
    "    print('predicted mean duration:', y_pred.mean())\n",
    "\n",
    "    df_result = pd.DataFrame()\n",
    "    df_result['ride_id'] = df['ride_id']\n",
    "    df_result['predicted_duration'] = y_pred\n",
    "\n",
    "    df_result.to_parquet(output_file, engine='pyarrow', index=False)"
   ]
  },
  {
   "cell_type": "code",
   "execution_count": 22,
   "id": "cbb5a547",
   "metadata": {},
   "outputs": [
    {
     "ename": "AttributeError",
     "evalue": "'DataFrame' object has no attribute 'tpep_dropoff_datetime'",
     "output_type": "error",
     "traceback": [
      "\u001b[31m---------------------------------------------------------------------------\u001b[39m",
      "\u001b[31mAttributeError\u001b[39m                            Traceback (most recent call last)",
      "\u001b[32m/tmp/ipykernel_27789/1258617433.py\u001b[39m in \u001b[36m?\u001b[39m\u001b[34m()\u001b[39m\n\u001b[32m      1\u001b[39m year = \u001b[32m2023\u001b[39m\n\u001b[32m      2\u001b[39m month = \u001b[32m3\u001b[39m\n\u001b[32m      3\u001b[39m input_file = get_input_path(year, month)\n\u001b[32m      4\u001b[39m output_file = get_output_path(year, month)\n\u001b[32m----> \u001b[39m\u001b[32m5\u001b[39m main(year, month)\n",
      "\u001b[32m/tmp/ipykernel_27789/1441582639.py\u001b[39m in \u001b[36m?\u001b[39m\u001b[34m(year, month)\u001b[39m\n\u001b[32m      8\u001b[39m \n\u001b[32m      9\u001b[39m     categorical = [\u001b[33m'PULocationID'\u001b[39m, \u001b[33m'DOLocationID'\u001b[39m]\n\u001b[32m     10\u001b[39m \n\u001b[32m     11\u001b[39m     df = read_data(input_file)\n\u001b[32m---> \u001b[39m\u001b[32m12\u001b[39m     df = prepare_data(df, categorical)\n\u001b[32m     13\u001b[39m \n\u001b[32m     14\u001b[39m     df[\u001b[33m'ride_id'\u001b[39m] = f'{year:04d}/{month:02d}_' + df.index.astype(\u001b[33m'str'\u001b[39m)\n\u001b[32m     15\u001b[39m \n",
      "\u001b[32m/tmp/ipykernel_27789/2278740794.py\u001b[39m in \u001b[36m?\u001b[39m\u001b[34m(df, categorical)\u001b[39m\n\u001b[32m      1\u001b[39m \u001b[38;5;28;01mdef\u001b[39;00m prepare_data(df, categorical):\n\u001b[32m      2\u001b[39m \n\u001b[32m----> \u001b[39m\u001b[32m3\u001b[39m     df[\u001b[33m'duration'\u001b[39m] = df.tpep_dropoff_datetime - df.tpep_pickup_datetime\n\u001b[32m      4\u001b[39m     df[\u001b[33m'duration'\u001b[39m] = df.duration.dt.total_seconds() / \u001b[32m60\u001b[39m\n\u001b[32m      5\u001b[39m \n\u001b[32m      6\u001b[39m     df = df[(df.duration >= \u001b[32m1\u001b[39m) & (df.duration <= \u001b[32m60\u001b[39m)].copy()\n",
      "\u001b[32m~/.local/share/virtualenvs/homework-ABE6idTd/lib/python3.12/site-packages/pandas/core/generic.py\u001b[39m in \u001b[36m?\u001b[39m\u001b[34m(self, name)\u001b[39m\n\u001b[32m   6314\u001b[39m             \u001b[38;5;28;01mand\u001b[39;00m name \u001b[38;5;28;01mnot\u001b[39;00m \u001b[38;5;28;01min\u001b[39;00m self._accessors\n\u001b[32m   6315\u001b[39m             \u001b[38;5;28;01mand\u001b[39;00m self._info_axis._can_hold_identifiers_and_holds_name(name)\n\u001b[32m   6316\u001b[39m         ):\n\u001b[32m   6317\u001b[39m             \u001b[38;5;28;01mreturn\u001b[39;00m self[name]\n\u001b[32m-> \u001b[39m\u001b[32m6318\u001b[39m         \u001b[38;5;28;01mreturn\u001b[39;00m object.__getattribute__(self, name)\n",
      "\u001b[31mAttributeError\u001b[39m: 'DataFrame' object has no attribute 'tpep_dropoff_datetime'"
     ]
    }
   ],
   "source": [
    "year = 2023\n",
    "month = 3\n",
    "input_file = get_input_path(year, month)\n",
    "output_file = get_output_path(year, month)\n",
    "main(year, month)"
   ]
  },
  {
   "cell_type": "code",
   "execution_count": 23,
   "id": "103725ff",
   "metadata": {},
   "outputs": [
    {
     "data": {
      "text/plain": [
       "'s3://nyc-duration/in/yellow_tripdata_2023-03.parquet'"
      ]
     },
     "execution_count": 23,
     "metadata": {},
     "output_type": "execute_result"
    }
   ],
   "source": [
    "get_input_path(year, month)"
   ]
  },
  {
   "cell_type": "markdown",
   "id": "aa7cc9b7",
   "metadata": {},
   "source": []
  },
  {
   "cell_type": "code",
   "execution_count": 3,
   "id": "478613e0",
   "metadata": {},
   "outputs": [
    {
     "data": {
      "text/html": [
       "<div>\n",
       "<style scoped>\n",
       "    .dataframe tbody tr th:only-of-type {\n",
       "        vertical-align: middle;\n",
       "    }\n",
       "\n",
       "    .dataframe tbody tr th {\n",
       "        vertical-align: top;\n",
       "    }\n",
       "\n",
       "    .dataframe thead th {\n",
       "        text-align: right;\n",
       "    }\n",
       "</style>\n",
       "<table border=\"1\" class=\"dataframe\">\n",
       "  <thead>\n",
       "    <tr style=\"text-align: right;\">\n",
       "      <th></th>\n",
       "      <th>ride_id</th>\n",
       "      <th>predicted_duration</th>\n",
       "    </tr>\n",
       "  </thead>\n",
       "  <tbody>\n",
       "    <tr>\n",
       "      <th>0</th>\n",
       "      <td>2023/03_0</td>\n",
       "      <td>16.245906</td>\n",
       "    </tr>\n",
       "    <tr>\n",
       "      <th>1</th>\n",
       "      <td>2023/03_1</td>\n",
       "      <td>26.134796</td>\n",
       "    </tr>\n",
       "    <tr>\n",
       "      <th>2</th>\n",
       "      <td>2023/03_2</td>\n",
       "      <td>11.884264</td>\n",
       "    </tr>\n",
       "    <tr>\n",
       "      <th>3</th>\n",
       "      <td>2023/03_3</td>\n",
       "      <td>11.997720</td>\n",
       "    </tr>\n",
       "    <tr>\n",
       "      <th>4</th>\n",
       "      <td>2023/03_4</td>\n",
       "      <td>10.234486</td>\n",
       "    </tr>\n",
       "    <tr>\n",
       "      <th>...</th>\n",
       "      <td>...</td>\n",
       "      <td>...</td>\n",
       "    </tr>\n",
       "    <tr>\n",
       "      <th>3316211</th>\n",
       "      <td>2023/03_3403761</td>\n",
       "      <td>11.952635</td>\n",
       "    </tr>\n",
       "    <tr>\n",
       "      <th>3316212</th>\n",
       "      <td>2023/03_3403762</td>\n",
       "      <td>20.049958</td>\n",
       "    </tr>\n",
       "    <tr>\n",
       "      <th>3316213</th>\n",
       "      <td>2023/03_3403763</td>\n",
       "      <td>11.595336</td>\n",
       "    </tr>\n",
       "    <tr>\n",
       "      <th>3316214</th>\n",
       "      <td>2023/03_3403764</td>\n",
       "      <td>13.113178</td>\n",
       "    </tr>\n",
       "    <tr>\n",
       "      <th>3316215</th>\n",
       "      <td>2023/03_3403765</td>\n",
       "      <td>12.899992</td>\n",
       "    </tr>\n",
       "  </tbody>\n",
       "</table>\n",
       "<p>3316216 rows × 2 columns</p>\n",
       "</div>"
      ],
      "text/plain": [
       "                 ride_id  predicted_duration\n",
       "0              2023/03_0           16.245906\n",
       "1              2023/03_1           26.134796\n",
       "2              2023/03_2           11.884264\n",
       "3              2023/03_3           11.997720\n",
       "4              2023/03_4           10.234486\n",
       "...                  ...                 ...\n",
       "3316211  2023/03_3403761           11.952635\n",
       "3316212  2023/03_3403762           20.049958\n",
       "3316213  2023/03_3403763           11.595336\n",
       "3316214  2023/03_3403764           13.113178\n",
       "3316215  2023/03_3403765           12.899992\n",
       "\n",
       "[3316216 rows x 2 columns]"
      ]
     },
     "execution_count": 3,
     "metadata": {},
     "output_type": "execute_result"
    }
   ],
   "source": [
    "read_data('s3://nyc-duration/out/yellow_tripdata_2023-03.parquet')"
   ]
  },
  {
   "cell_type": "code",
   "execution_count": null,
   "id": "00f78bec",
   "metadata": {},
   "outputs": [],
   "source": []
  }
 ],
 "metadata": {
  "kernelspec": {
   "display_name": "homework-ABE6idTd",
   "language": "python",
   "name": "python3"
  },
  "language_info": {
   "codemirror_mode": {
    "name": "ipython",
    "version": 3
   },
   "file_extension": ".py",
   "mimetype": "text/x-python",
   "name": "python",
   "nbconvert_exporter": "python",
   "pygments_lexer": "ipython3",
   "version": "3.12.3"
  }
 },
 "nbformat": 4,
 "nbformat_minor": 5
}
