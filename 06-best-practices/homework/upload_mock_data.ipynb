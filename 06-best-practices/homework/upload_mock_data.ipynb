{
 "cells": [
  {
   "cell_type": "code",
   "execution_count": 1,
   "id": "f28f2fd3",
   "metadata": {},
   "outputs": [],
   "source": [
    "import pandas as pd\n",
    "from datetime import datetime"
   ]
  },
  {
   "cell_type": "code",
   "execution_count": 2,
   "id": "2581f05e",
   "metadata": {},
   "outputs": [],
   "source": [
    "year = 2023\n",
    "month = 1\n",
    "endpoint = \"http://localhost:4566\"\n",
    "output_file = f's3://nyc-duration/in/yellow_tripdata_{year:04d}-{month:02d}.parquet'"
   ]
  },
  {
   "cell_type": "code",
   "execution_count": 3,
   "id": "4d047d4c",
   "metadata": {},
   "outputs": [],
   "source": [
    "def dt(hour, minute, second=0):\n",
    "    return datetime(2023, 1, 1, hour, minute, second)"
   ]
  },
  {
   "cell_type": "code",
   "execution_count": 4,
   "id": "26aae255",
   "metadata": {},
   "outputs": [],
   "source": [
    "df = pd.DataFrame([\n",
    "        (None, None, dt(1, 1), dt(1, 10)),\n",
    "        (1, 1, dt(1, 2), dt(1, 10)),\n",
    "        (1, None, dt(1, 2, 0), dt(1, 2, 59)),\n",
    "        (3, 4, dt(1, 2, 0), dt(2, 2, 1)),\n",
    "    ], columns=['PULocationID', 'DOLocationID', 'tpep_pickup_datetime', 'tpep_dropoff_datetime'])\n"
   ]
  },
  {
   "cell_type": "code",
   "execution_count": 5,
   "id": "6bc0aa52",
   "metadata": {},
   "outputs": [],
   "source": [
    "options = {\n",
    "    'client_kwargs': {\n",
    "        'endpoint_url': endpoint\n",
    "    }\n",
    "}"
   ]
  },
  {
   "cell_type": "code",
   "execution_count": 6,
   "id": "a015fb70",
   "metadata": {},
   "outputs": [],
   "source": [
    "df.to_parquet(output_file,\n",
    "    engine='pyarrow',\n",
    "    compression=None,\n",
    "    index=False,\n",
    "    storage_options=options\n",
    ")"
   ]
  },
  {
   "cell_type": "code",
   "execution_count": null,
   "id": "16617458",
   "metadata": {},
   "outputs": [],
   "source": []
  }
 ],
 "metadata": {
  "kernelspec": {
   "display_name": "homework-ABE6idTd",
   "language": "python",
   "name": "python3"
  },
  "language_info": {
   "codemirror_mode": {
    "name": "ipython",
    "version": 3
   },
   "file_extension": ".py",
   "mimetype": "text/x-python",
   "name": "python",
   "nbconvert_exporter": "python",
   "pygments_lexer": "ipython3",
   "version": "3.12.3"
  }
 },
 "nbformat": 4,
 "nbformat_minor": 5
}
