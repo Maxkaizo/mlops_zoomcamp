{
 "cells": [
  {
   "cell_type": "code",
   "execution_count": 10,
   "id": "24aaf850",
   "metadata": {},
   "outputs": [],
   "source": [
    "from mlflow.tracking import MlflowClient\n",
    "import mlflow"
   ]
  },
  {
   "cell_type": "code",
   "execution_count": 2,
   "id": "3f302981",
   "metadata": {},
   "outputs": [],
   "source": [
    "MLFLOW_TRACKING_URI = \"sqlite:///mlflow_tracking_server.db\"\n",
    "client = MlflowClient(tracking_uri=MLFLOW_TRACKING_URI)"
   ]
  },
  {
   "cell_type": "code",
   "execution_count": 3,
   "id": "d8d715ef",
   "metadata": {},
   "outputs": [
    {
     "data": {
      "text/plain": [
       "[<Experiment: artifact_location='/workspaces/mlops_zoomcamp/02_experiment-tracking/artifacts/2', creation_time=1748303130455, experiment_id='2', last_update_time=1748303130455, lifecycle_stage='active', name='random-forest-best-models', tags={}>,\n",
       " <Experiment: artifact_location='/workspaces/mlops_zoomcamp/02_experiment-tracking/artifacts/1', creation_time=1748287310325, experiment_id='1', last_update_time=1748287310325, lifecycle_stage='active', name='random-forest-hyperopt', tags={}>,\n",
       " <Experiment: artifact_location='/workspaces/mlops_zoomcamp/02_experiment-tracking/artifacts/0', creation_time=1748285614299, experiment_id='0', last_update_time=1748285614299, lifecycle_stage='active', name='Default', tags={}>]"
      ]
     },
     "execution_count": 3,
     "metadata": {},
     "output_type": "execute_result"
    }
   ],
   "source": [
    "\n",
    "client.search_experiments()"
   ]
  },
  {
   "cell_type": "code",
   "execution_count": null,
   "id": "b21b6744",
   "metadata": {},
   "outputs": [],
   "source": []
  },
  {
   "cell_type": "code",
   "execution_count": 4,
   "id": "ee5680a6",
   "metadata": {},
   "outputs": [
    {
     "data": {
      "text/plain": [
       "[<Run: data=<RunData: metrics={'rms': 5.355041749098929}, params={'max_depth': '20',\n",
       "  'min_samples_leaf': '1',\n",
       "  'min_samples_split': '9',\n",
       "  'n_estimators': '19',\n",
       "  'random_state': '42'}, tags={'mlflow.runName': 'valuable-cat-972',\n",
       "  'mlflow.source.git.commit': 'ba2595d8d77a3259746c07d24f77b80c74e68117',\n",
       "  'mlflow.source.name': 'hpo.py',\n",
       "  'mlflow.source.type': 'LOCAL',\n",
       "  'mlflow.user': 'codespace',\n",
       "  'task': 'hw3q5'}>, info=<RunInfo: artifact_uri='/workspaces/mlops_zoomcamp/02_experiment-tracking/artifacts/1/3154151388e442deb4aef293293285a3/artifacts', end_time=1748287377096, experiment_id='1', lifecycle_stage='active', run_id='3154151388e442deb4aef293293285a3', run_name='valuable-cat-972', run_uuid='3154151388e442deb4aef293293285a3', start_time=1748287371545, status='FINISHED', user_id='codespace'>, inputs=<RunInputs: dataset_inputs=[]>>,\n",
       " <Run: data=<RunData: metrics={'rms': 5.37159585587677}, params={'max_depth': '18',\n",
       "  'min_samples_leaf': '1',\n",
       "  'min_samples_split': '6',\n",
       "  'n_estimators': '13',\n",
       "  'random_state': '42'}, tags={'mlflow.runName': 'big-cod-598',\n",
       "  'mlflow.source.git.commit': 'ba2595d8d77a3259746c07d24f77b80c74e68117',\n",
       "  'mlflow.source.name': 'hpo.py',\n",
       "  'mlflow.source.type': 'LOCAL',\n",
       "  'mlflow.user': 'codespace',\n",
       "  'task': 'hw3q5'}>, info=<RunInfo: artifact_uri='/workspaces/mlops_zoomcamp/02_experiment-tracking/artifacts/1/33715d9249bf4c9d9e57cc4ef864e7f2/artifacts', end_time=1748287371528, experiment_id='1', lifecycle_stage='active', run_id='33715d9249bf4c9d9e57cc4ef864e7f2', run_name='big-cod-598', run_uuid='33715d9249bf4c9d9e57cc4ef864e7f2', start_time=1748287367994, status='FINISHED', user_id='codespace'>, inputs=<RunInputs: dataset_inputs=[]>>,\n",
       " <Run: data=<RunData: metrics={'rms': 5.538069949003994}, params={'max_depth': '5',\n",
       "  'min_samples_leaf': '3',\n",
       "  'min_samples_split': '8',\n",
       "  'n_estimators': '21',\n",
       "  'random_state': '42'}, tags={'mlflow.runName': 'upset-fly-481',\n",
       "  'mlflow.source.git.commit': 'ba2595d8d77a3259746c07d24f77b80c74e68117',\n",
       "  'mlflow.source.name': 'hpo.py',\n",
       "  'mlflow.source.type': 'LOCAL',\n",
       "  'mlflow.user': 'codespace',\n",
       "  'task': 'hw3q5'}>, info=<RunInfo: artifact_uri='/workspaces/mlops_zoomcamp/02_experiment-tracking/artifacts/1/533c599847d840cc92968f40231801c3/artifacts', end_time=1748287367978, experiment_id='1', lifecycle_stage='active', run_id='533c599847d840cc92968f40231801c3', run_name='upset-fly-481', run_uuid='533c599847d840cc92968f40231801c3', start_time=1748287366929, status='FINISHED', user_id='codespace'>, inputs=<RunInputs: dataset_inputs=[]>>,\n",
       " <Run: data=<RunData: metrics={'rms': 5.484068016681342}, params={'max_depth': '7',\n",
       "  'min_samples_leaf': '1',\n",
       "  'min_samples_split': '7',\n",
       "  'n_estimators': '41',\n",
       "  'random_state': '42'}, tags={'mlflow.runName': 'sneaky-wasp-879',\n",
       "  'mlflow.source.git.commit': 'ba2595d8d77a3259746c07d24f77b80c74e68117',\n",
       "  'mlflow.source.name': 'hpo.py',\n",
       "  'mlflow.source.type': 'LOCAL',\n",
       "  'mlflow.user': 'codespace',\n",
       "  'task': 'hw3q5'}>, info=<RunInfo: artifact_uri='/workspaces/mlops_zoomcamp/02_experiment-tracking/artifacts/1/9d316be5a6eb41a296e86f0f9613e8a3/artifacts', end_time=1748287366914, experiment_id='1', lifecycle_stage='active', run_id='9d316be5a6eb41a296e86f0f9613e8a3', run_name='sneaky-wasp-879', run_uuid='9d316be5a6eb41a296e86f0f9613e8a3', start_time=1748287363790, status='FINISHED', user_id='codespace'>, inputs=<RunInputs: dataset_inputs=[]>>,\n",
       " <Run: data=<RunData: metrics={'rms': 5.335419588556921}, params={'max_depth': '19',\n",
       "  'min_samples_leaf': '2',\n",
       "  'min_samples_split': '2',\n",
       "  'n_estimators': '11',\n",
       "  'random_state': '42'}, tags={'mlflow.runName': 'powerful-slug-289',\n",
       "  'mlflow.source.git.commit': 'ba2595d8d77a3259746c07d24f77b80c74e68117',\n",
       "  'mlflow.source.name': 'hpo.py',\n",
       "  'mlflow.source.type': 'LOCAL',\n",
       "  'mlflow.user': 'codespace',\n",
       "  'task': 'hw3q5'}>, info=<RunInfo: artifact_uri='/workspaces/mlops_zoomcamp/02_experiment-tracking/artifacts/1/b6eed787f3df480aa9a6fba35494936b/artifacts', end_time=1748287363774, experiment_id='1', lifecycle_stage='active', run_id='b6eed787f3df480aa9a6fba35494936b', run_name='powerful-slug-289', run_uuid='b6eed787f3df480aa9a6fba35494936b', start_time=1748287360040, status='FINISHED', user_id='codespace'>, inputs=<RunInputs: dataset_inputs=[]>>,\n",
       " <Run: data=<RunData: metrics={'rms': 5.3633599989832135}, params={'max_depth': '14',\n",
       "  'min_samples_leaf': '2',\n",
       "  'min_samples_split': '6',\n",
       "  'n_estimators': '23',\n",
       "  'random_state': '42'}, tags={'mlflow.runName': 'chill-slug-356',\n",
       "  'mlflow.source.git.commit': 'ba2595d8d77a3259746c07d24f77b80c74e68117',\n",
       "  'mlflow.source.name': 'hpo.py',\n",
       "  'mlflow.source.type': 'LOCAL',\n",
       "  'mlflow.user': 'codespace',\n",
       "  'task': 'hw3q5'}>, info=<RunInfo: artifact_uri='/workspaces/mlops_zoomcamp/02_experiment-tracking/artifacts/1/d9d99f5ff029472f9ad73f4679392377/artifacts', end_time=1748287360018, experiment_id='1', lifecycle_stage='active', run_id='d9d99f5ff029472f9ad73f4679392377', run_name='chill-slug-356', run_uuid='d9d99f5ff029472f9ad73f4679392377', start_time=1748287355172, status='FINISHED', user_id='codespace'>, inputs=<RunInputs: dataset_inputs=[]>>,\n",
       " <Run: data=<RunData: metrics={'rms': 5.410518705423984}, params={'max_depth': '12',\n",
       "  'min_samples_leaf': '1',\n",
       "  'min_samples_split': '8',\n",
       "  'n_estimators': '39',\n",
       "  'random_state': '42'}, tags={'mlflow.runName': 'charming-koi-536',\n",
       "  'mlflow.source.git.commit': 'ba2595d8d77a3259746c07d24f77b80c74e68117',\n",
       "  'mlflow.source.name': 'hpo.py',\n",
       "  'mlflow.source.type': 'LOCAL',\n",
       "  'mlflow.user': 'codespace',\n",
       "  'task': 'hw3q5'}>, info=<RunInfo: artifact_uri='/workspaces/mlops_zoomcamp/02_experiment-tracking/artifacts/1/ffb76e4d24cc4890af696664a49dbb4c/artifacts', end_time=1748287355157, experiment_id='1', lifecycle_stage='active', run_id='ffb76e4d24cc4890af696664a49dbb4c', run_name='charming-koi-536', run_uuid='ffb76e4d24cc4890af696664a49dbb4c', start_time=1748287349021, status='FINISHED', user_id='codespace'>, inputs=<RunInputs: dataset_inputs=[]>>,\n",
       " <Run: data=<RunData: metrics={'rms': 5.4646431328121015}, params={'max_depth': '7',\n",
       "  'min_samples_leaf': '3',\n",
       "  'min_samples_split': '9',\n",
       "  'n_estimators': '13',\n",
       "  'random_state': '42'}, tags={'mlflow.runName': 'mercurial-shrew-480',\n",
       "  'mlflow.source.git.commit': 'ba2595d8d77a3259746c07d24f77b80c74e68117',\n",
       "  'mlflow.source.name': 'hpo.py',\n",
       "  'mlflow.source.type': 'LOCAL',\n",
       "  'mlflow.user': 'codespace',\n",
       "  'task': 'hw3q5'}>, info=<RunInfo: artifact_uri='/workspaces/mlops_zoomcamp/02_experiment-tracking/artifacts/1/38e795526a404b5c8e8b5a169e8aafaf/artifacts', end_time=1748287349005, experiment_id='1', lifecycle_stage='active', run_id='38e795526a404b5c8e8b5a169e8aafaf', run_name='mercurial-shrew-480', run_uuid='38e795526a404b5c8e8b5a169e8aafaf', start_time=1748287347959, status='FINISHED', user_id='codespace'>, inputs=<RunInputs: dataset_inputs=[]>>,\n",
       " <Run: data=<RunData: metrics={'rms': 5.363707729018604}, params={'max_depth': '18',\n",
       "  'min_samples_leaf': '1',\n",
       "  'min_samples_split': '10',\n",
       "  'n_estimators': '38',\n",
       "  'random_state': '42'}, tags={'mlflow.runName': 'incongruous-pug-902',\n",
       "  'mlflow.source.git.commit': 'ba2595d8d77a3259746c07d24f77b80c74e68117',\n",
       "  'mlflow.source.name': 'hpo.py',\n",
       "  'mlflow.source.type': 'LOCAL',\n",
       "  'mlflow.user': 'codespace',\n",
       "  'task': 'hw3q5'}>, info=<RunInfo: artifact_uri='/workspaces/mlops_zoomcamp/02_experiment-tracking/artifacts/1/e334aeff7260412fb127bd39ea37ef04/artifacts', end_time=1748287347938, experiment_id='1', lifecycle_stage='active', run_id='e334aeff7260412fb127bd39ea37ef04', run_name='incongruous-pug-902', run_uuid='e334aeff7260412fb127bd39ea37ef04', start_time=1748287338263, status='FINISHED', user_id='codespace'>, inputs=<RunInputs: dataset_inputs=[]>>,\n",
       " <Run: data=<RunData: metrics={'rms': 5.354695072530291}, params={'max_depth': '15',\n",
       "  'min_samples_leaf': '2',\n",
       "  'min_samples_split': '3',\n",
       "  'n_estimators': '40',\n",
       "  'random_state': '42'}, tags={'mlflow.runName': 'capricious-frog-820',\n",
       "  'mlflow.source.git.commit': 'ba2595d8d77a3259746c07d24f77b80c74e68117',\n",
       "  'mlflow.source.name': 'hpo.py',\n",
       "  'mlflow.source.type': 'LOCAL',\n",
       "  'mlflow.user': 'codespace',\n",
       "  'task': 'hw3q5'}>, info=<RunInfo: artifact_uri='/workspaces/mlops_zoomcamp/02_experiment-tracking/artifacts/1/f1a87a082cfb47fa90c532c80d89a4fb/artifacts', end_time=1748287338244, experiment_id='1', lifecycle_stage='active', run_id='f1a87a082cfb47fa90c532c80d89a4fb', run_name='capricious-frog-820', run_uuid='f1a87a082cfb47fa90c532c80d89a4fb', start_time=1748287328513, status='FINISHED', user_id='codespace'>, inputs=<RunInputs: dataset_inputs=[]>>,\n",
       " <Run: data=<RunData: metrics={'rms': 5.4431408201543805}, params={'max_depth': '8',\n",
       "  'min_samples_leaf': '2',\n",
       "  'min_samples_split': '3',\n",
       "  'n_estimators': '30',\n",
       "  'random_state': '42'}, tags={'mlflow.runName': 'gifted-sheep-877',\n",
       "  'mlflow.source.git.commit': 'ba2595d8d77a3259746c07d24f77b80c74e68117',\n",
       "  'mlflow.source.name': 'hpo.py',\n",
       "  'mlflow.source.type': 'LOCAL',\n",
       "  'mlflow.user': 'codespace',\n",
       "  'task': 'hw3q5'}>, info=<RunInfo: artifact_uri='/workspaces/mlops_zoomcamp/02_experiment-tracking/artifacts/1/c2c7f0aea1a647818c1daaa35d645775/artifacts', end_time=1748287328498, experiment_id='1', lifecycle_stage='active', run_id='c2c7f0aea1a647818c1daaa35d645775', run_name='gifted-sheep-877', run_uuid='c2c7f0aea1a647818c1daaa35d645775', start_time=1748287325638, status='FINISHED', user_id='codespace'>, inputs=<RunInputs: dataset_inputs=[]>>,\n",
       " <Run: data=<RunData: metrics={'rms': 5.357490752366866}, params={'max_depth': '14',\n",
       "  'min_samples_leaf': '3',\n",
       "  'min_samples_split': '4',\n",
       "  'n_estimators': '26',\n",
       "  'random_state': '42'}, tags={'mlflow.runName': 'trusting-pug-338',\n",
       "  'mlflow.source.git.commit': 'ba2595d8d77a3259746c07d24f77b80c74e68117',\n",
       "  'mlflow.source.name': 'hpo.py',\n",
       "  'mlflow.source.type': 'LOCAL',\n",
       "  'mlflow.user': 'codespace',\n",
       "  'task': 'hw3q5'}>, info=<RunInfo: artifact_uri='/workspaces/mlops_zoomcamp/02_experiment-tracking/artifacts/1/c0de282317294601930044bc6445bdee/artifacts', end_time=1748287325621, experiment_id='1', lifecycle_stage='active', run_id='c0de282317294601930044bc6445bdee', run_name='trusting-pug-338', run_uuid='c0de282317294601930044bc6445bdee', start_time=1748287319921, status='FINISHED', user_id='codespace'>, inputs=<RunInputs: dataset_inputs=[]>>,\n",
       " <Run: data=<RunData: metrics={'rms': 5.617650247001616}, params={'max_depth': '4',\n",
       "  'min_samples_leaf': '3',\n",
       "  'min_samples_split': '3',\n",
       "  'n_estimators': '16',\n",
       "  'random_state': '42'}, tags={'mlflow.runName': 'auspicious-bug-887',\n",
       "  'mlflow.source.git.commit': 'ba2595d8d77a3259746c07d24f77b80c74e68117',\n",
       "  'mlflow.source.name': 'hpo.py',\n",
       "  'mlflow.source.type': 'LOCAL',\n",
       "  'mlflow.user': 'codespace',\n",
       "  'task': 'hw3q5'}>, info=<RunInfo: artifact_uri='/workspaces/mlops_zoomcamp/02_experiment-tracking/artifacts/1/f0ef84ebbaf24515a15e0a5e3b6ee727/artifacts', end_time=1748287319904, experiment_id='1', lifecycle_stage='active', run_id='f0ef84ebbaf24515a15e0a5e3b6ee727', run_name='auspicious-bug-887', run_uuid='f0ef84ebbaf24515a15e0a5e3b6ee727', start_time=1748287319258, status='FINISHED', user_id='codespace'>, inputs=<RunInputs: dataset_inputs=[]>>,\n",
       " <Run: data=<RunData: metrics={'rms': 6.336044899923993}, params={'max_depth': '2',\n",
       "  'min_samples_leaf': '4',\n",
       "  'min_samples_split': '7',\n",
       "  'n_estimators': '22',\n",
       "  'random_state': '42'}, tags={'mlflow.runName': 'monumental-snail-185',\n",
       "  'mlflow.source.git.commit': 'ba2595d8d77a3259746c07d24f77b80c74e68117',\n",
       "  'mlflow.source.name': 'hpo.py',\n",
       "  'mlflow.source.type': 'LOCAL',\n",
       "  'mlflow.user': 'codespace',\n",
       "  'task': 'hw3q5'}>, info=<RunInfo: artifact_uri='/workspaces/mlops_zoomcamp/02_experiment-tracking/artifacts/1/a2c90a290e6443048b0d5c363616cc5b/artifacts', end_time=1748287319241, experiment_id='1', lifecycle_stage='active', run_id='a2c90a290e6443048b0d5c363616cc5b', run_name='monumental-snail-185', run_uuid='a2c90a290e6443048b0d5c363616cc5b', start_time=1748287318826, status='FINISHED', user_id='codespace'>, inputs=<RunInputs: dataset_inputs=[]>>,\n",
       " <Run: data=<RunData: metrics={'rms': 5.370086069268862}, params={'max_depth': '13',\n",
       "  'min_samples_leaf': '4',\n",
       "  'min_samples_split': '7',\n",
       "  'n_estimators': '43',\n",
       "  'random_state': '42'}, tags={'mlflow.runName': 'skittish-steed-574',\n",
       "  'mlflow.source.git.commit': 'ba2595d8d77a3259746c07d24f77b80c74e68117',\n",
       "  'mlflow.source.name': 'hpo.py',\n",
       "  'mlflow.source.type': 'LOCAL',\n",
       "  'mlflow.user': 'codespace',\n",
       "  'task': 'hw3q5'}>, info=<RunInfo: artifact_uri='/workspaces/mlops_zoomcamp/02_experiment-tracking/artifacts/1/552b61601b8047f2930c8a1fdabf59ea/artifacts', end_time=1748287318804, experiment_id='1', lifecycle_stage='active', run_id='552b61601b8047f2930c8a1fdabf59ea', run_name='skittish-steed-574', run_uuid='552b61601b8047f2930c8a1fdabf59ea', start_time=1748287310386, status='FINISHED', user_id='codespace'>, inputs=<RunInputs: dataset_inputs=[]>>]"
      ]
     },
     "execution_count": 4,
     "metadata": {},
     "output_type": "execute_result"
    }
   ],
   "source": [
    "from mlflow.entities import ViewType\n",
    "\n",
    "client.search_runs(\n",
    "    experiment_ids= '1',\n",
    "    run_view_type= ViewType.ACTIVE_ONLY\n",
    ") "
   ]
  },
  {
   "cell_type": "code",
   "execution_count": 5,
   "id": "d0081c2c",
   "metadata": {},
   "outputs": [],
   "source": [
    "EXPERIMENT_NAME = \"random-forest-hyperopt\"\n",
    "experiment = client.get_experiment_by_name(EXPERIMENT_NAME)"
   ]
  },
  {
   "cell_type": "code",
   "execution_count": 6,
   "id": "c123b7c3",
   "metadata": {},
   "outputs": [
    {
     "data": {
      "text/plain": [
       "<Experiment: artifact_location='/workspaces/mlops_zoomcamp/02_experiment-tracking/artifacts/1', creation_time=1748287310325, experiment_id='1', last_update_time=1748287310325, lifecycle_stage='active', name='random-forest-hyperopt', tags={}>"
      ]
     },
     "execution_count": 6,
     "metadata": {},
     "output_type": "execute_result"
    }
   ],
   "source": [
    "experiment"
   ]
  },
  {
   "cell_type": "code",
   "execution_count": 7,
   "id": "70e3e8e1",
   "metadata": {},
   "outputs": [],
   "source": [
    "runs = client.search_runs(\n",
    "        experiment_ids=experiment.experiment_id,\n",
    "        run_view_type=ViewType.ACTIVE_ONLY,\n",
    "        max_results=5,\n",
    "        order_by=[\"metrics.rms ASC\"]\n",
    ")"
   ]
  },
  {
   "cell_type": "code",
   "execution_count": null,
   "id": "de406f4d",
   "metadata": {},
   "outputs": [],
   "source": [
    "for run in runs:\n",
    "    print(f\"run_id: {run.info.run_id}, rms: {run.data.metrics['rms']:.4f}\")"
   ]
  },
  {
   "cell_type": "code",
   "execution_count": null,
   "id": "a47ca40d",
   "metadata": {},
   "outputs": [],
   "source": [
    "runs = client.search_runs(\n",
    "        experiment_ids=experiment.experiment_id,\n",
    "        run_view_type=ViewType.ACTIVE_ONLY,\n",
    "        max_results=1,\n",
    "        order_by=[\"metrics.rms ASC\"]\n",
    ")"
   ]
  },
  {
   "cell_type": "code",
   "execution_count": 8,
   "id": "ecae10fe",
   "metadata": {},
   "outputs": [
    {
     "name": "stdout",
     "output_type": "stream",
     "text": [
      "run_id: b6eed787f3df480aa9a6fba35494936b, rms: 5.3354\n"
     ]
    }
   ],
   "source": [
    "run = runs[0]\n",
    "print(f\"run_id: {run.info.run_id}, rms: {run.data.metrics['rms']:.4f}\")"
   ]
  },
  {
   "cell_type": "code",
   "execution_count": 12,
   "id": "1cee4281",
   "metadata": {},
   "outputs": [],
   "source": [
    "# Register the best model\n",
    "best_run = runs[0]\n",
    "run_id = best_run.info.run_id\n"
   ]
  },
  {
   "cell_type": "code",
   "execution_count": 13,
   "id": "fd8915c2",
   "metadata": {},
   "outputs": [
    {
     "data": {
      "text/plain": [
       "'b6eed787f3df480aa9a6fba35494936b'"
      ]
     },
     "execution_count": 13,
     "metadata": {},
     "output_type": "execute_result"
    }
   ],
   "source": [
    "run_id"
   ]
  },
  {
   "cell_type": "code",
   "execution_count": 16,
   "id": "98297df1",
   "metadata": {},
   "outputs": [],
   "source": [
    "model_uri = f\"runs:/{run_id}/model\"\n"
   ]
  },
  {
   "cell_type": "code",
   "execution_count": 17,
   "id": "8bfe2b8b",
   "metadata": {},
   "outputs": [
    {
     "data": {
      "text/plain": [
       "'runs:/b6eed787f3df480aa9a6fba35494936b/model'"
      ]
     },
     "execution_count": 17,
     "metadata": {},
     "output_type": "execute_result"
    }
   ],
   "source": [
    "model_uri"
   ]
  },
  {
   "cell_type": "code",
   "execution_count": null,
   "id": "bd1d796f",
   "metadata": {},
   "outputs": [],
   "source": [
    "mlflow.register_model(model_uri=model_uri, name=\"random-forest-hyperopt\")"
   ]
  }
 ],
 "metadata": {
  "kernelspec": {
   "display_name": "base",
   "language": "python",
   "name": "python3"
  },
  "language_info": {
   "codemirror_mode": {
    "name": "ipython",
    "version": 3
   },
   "file_extension": ".py",
   "mimetype": "text/x-python",
   "name": "python",
   "nbconvert_exporter": "python",
   "pygments_lexer": "ipython3",
   "version": "3.12.9"
  }
 },
 "nbformat": 4,
 "nbformat_minor": 5
}
